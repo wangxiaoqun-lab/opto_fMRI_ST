{
 "cells": [
  {
   "cell_type": "code",
   "execution_count": 815,
   "id": "34fc9918-6c6a-4ca6-b0b9-b368490c1121",
   "metadata": {},
   "outputs": [
    {
     "name": "stderr",
     "output_type": "stream",
     "text": [
      "Warning message:\n",
      "“package ‘tidyr’ was built under R version 4.3.3”\n",
      "\n",
      "Attaching package: ‘tidyr’\n",
      "\n",
      "\n",
      "The following object is masked from ‘package:reshape2’:\n",
      "\n",
      "    smiths\n",
      "\n",
      "\n"
     ]
    }
   ],
   "source": [
    "library(readxl)\n",
    "library(treemap)\n",
    "library(ggplot2)\n",
    "library(treemapify)\n",
    "library(dplyr)\n",
    "library(eulerr)\n",
    "library(scales)\n",
    "library(Seurat)\n",
    "library(ggrepel)\n",
    "library(reshape2)\n",
    "library(tidyr)"
   ]
  },
  {
   "cell_type": "code",
   "execution_count": 543,
   "id": "3d85afa2-9c4a-49c8-93db-4ff49c9e68f1",
   "metadata": {},
   "outputs": [],
   "source": [
    "setwd('/newdatc/home/wanglab41/opto_fMRI_ST/fmri_th/GO')"
   ]
  },
  {
   "cell_type": "markdown",
   "id": "3cb7d602-99df-480b-97dd-3b5bb6990263",
   "metadata": {},
   "source": [
    "# PLS mPFC"
   ]
  },
  {
   "cell_type": "code",
   "execution_count": 735,
   "id": "bc23c33a-571c-4d62-9854-87d5eabe5ee6",
   "metadata": {},
   "outputs": [
    {
     "data": {
      "text/html": [
       "<strong>pdf:</strong> 2"
      ],
      "text/latex": [
       "\\textbf{pdf:} 2"
      ],
      "text/markdown": [
       "**pdf:** 2"
      ],
      "text/plain": [
       "pdf \n",
       "  2 "
      ]
     },
     "metadata": {},
     "output_type": "display_data"
    }
   ],
   "source": [
    "data <- read_excel('./metascape_result_mPFC_VIP15_comp5_617gene_chose_1230.xlsx', sheet=\"Enrichment\")\n",
    "data <- data %>% \n",
    "  select(Summary, Description, LogP) %>%\n",
    "  mutate(LogP = abs(LogP))\n",
    "pdf('./treemap_metascape_result_mPFC_VIP15_comp5_617genes_chose_1230.pdf',,width=12,height=12)\n",
    "options(repr.plot.width=12, repr.plot.height=12)\n",
    "original_colors <- c(\"#8FBC8F\", \"#6B8E23\", \"#7CC5C5\", \"#90EE90\", \"#43A047\", \"#32CD32\", \"#98FF98\", \"#C5E17A\", \"#E1E95D\", \"#F0F000\", \"#E6E600\", \"#D4AC0D\")\n",
    "color_palette <- colorRampPalette(original_colors)(length(unique(data$Summary)))\n",
    "treemap(dtf = data,\n",
    "      index = c(\"Summary\", \"Description\"),\n",
    "      vSize = \"LogP\",\n",
    "      vColor = \"Summary\",\n",
    "      draw.labels = TRUE,\n",
    "      title = \"Genetic process of mPFC PLS VIP genes\",\n",
    "      fontsize.title = 18,\n",
    "      fontsize.labels = c(20, 12),\n",
    "      fontsize.legend = 12,\n",
    "      fontcolor.labels = c(\"white\", \"black\"),\n",
    "      fontface.labels = c(\"bold\", \"plain\"),\n",
    "      border.lwds = c(3, 1),\n",
    "      cex.labels = 1.5,\n",
    "      palette = color_palette)\n",
    "dev.off()"
   ]
  },
  {
   "cell_type": "markdown",
   "id": "5bd97817-d9f0-4446-a104-cbbb379f7945",
   "metadata": {},
   "source": [
    "# PLS SUB"
   ]
  },
  {
   "cell_type": "code",
   "execution_count": 147,
   "id": "f5057105-f03a-496e-a222-b715f3c328b9",
   "metadata": {},
   "outputs": [
    {
     "data": {
      "text/html": [
       "<strong>pdf:</strong> 2"
      ],
      "text/latex": [
       "\\textbf{pdf:} 2"
      ],
      "text/markdown": [
       "**pdf:** 2"
      ],
      "text/plain": [
       "pdf \n",
       "  2 "
      ]
     },
     "metadata": {},
     "output_type": "display_data"
    }
   ],
   "source": [
    "data <- read_excel('./metascape_result_SUB_VIP15_comp7_617gene.xlsx', sheet=\"Enrichment\")\n",
    "data <- data %>% \n",
    "  select(Summary, Description, LogP) %>%\n",
    "  mutate(LogP = abs(LogP))\n",
    "pdf('./treemap_metascape_result_SUB_VIP15_comp7_617genes.pdf',,width=12,height=12)\n",
    "options(repr.plot.width=12, repr.plot.height=12)\n",
    "original_colors <- c(\"#1F77B4\", \"#3B5B92\", \"#5C6BC0\", \"#7E57C2\", \"#8E44AD\", \"#9467BD\", \"#A569BD\", \"#B39DDB\", \"#D8BFD8\")\n",
    "color_palette <- colorRampPalette(original_colors)(length(unique(data$Summary)))\n",
    "treemap(dtf = data,\n",
    "      index = c(\"Summary\", \"Description\"),\n",
    "      vSize = \"LogP\",\n",
    "      vColor = \"Summary\",\n",
    "      draw.labels = TRUE,\n",
    "      title = \"Genetic process of SUB PLS VIP genes\",\n",
    "      fontsize.title = 18,\n",
    "      fontsize.labels = c(20, 12),\n",
    "      fontsize.legend = 12,\n",
    "      fontcolor.labels = c(\"white\", \"black\"),\n",
    "      fontface.labels = c(\"bold\", \"plain\"),\n",
    "      border.lwds = c(3, 1),\n",
    "      cex.labels = 1.5,\n",
    "      palette = original_colors)\n",
    "dev.off()"
   ]
  }
 ],
 "metadata": {
  "kernelspec": {
   "display_name": "R",
   "language": "R",
   "name": "ir"
  },
  "language_info": {
   "codemirror_mode": "r",
   "file_extension": ".r",
   "mimetype": "text/x-r-source",
   "name": "R",
   "pygments_lexer": "r",
   "version": "4.3.2"
  }
 },
 "nbformat": 4,
 "nbformat_minor": 5
}
